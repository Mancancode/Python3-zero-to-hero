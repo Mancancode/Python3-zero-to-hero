{
 "cells": [
  {
   "cell_type": "code",
   "execution_count": 1,
   "metadata": {},
   "outputs": [],
   "source": [
    "def add(n1,n2):\n",
    "    print(n1+n2)"
   ]
  },
  {
   "cell_type": "code",
   "execution_count": 2,
   "metadata": {},
   "outputs": [
    {
     "name": "stdout",
     "output_type": "stream",
     "text": [
      "50\n"
     ]
    }
   ],
   "source": [
    "add(30,20)"
   ]
  },
  {
   "cell_type": "code",
   "execution_count": 3,
   "metadata": {},
   "outputs": [],
   "source": [
    "number1 = 10"
   ]
  },
  {
   "cell_type": "code",
   "execution_count": 4,
   "metadata": {},
   "outputs": [
    {
     "name": "stdout",
     "output_type": "stream",
     "text": [
      "Enter a number:\n"
     ]
    }
   ],
   "source": [
    "number2 = input(\"Enter a number:\")"
   ]
  },
  {
   "cell_type": "markdown",
   "metadata": {},
   "source": [
    "add(number1,number2)"
   ]
  },
  {
   "cell_type": "raw",
   "metadata": {},
   "source": []
  },
  {
   "cell_type": "code",
   "execution_count": 5,
   "metadata": {},
   "outputs": [
    {
     "name": "stdout",
     "output_type": "stream",
     "text": [
      "adds are good\n",
      "20\n"
     ]
    }
   ],
   "source": [
    "try:\n",
    "    result = 10+10\n",
    "    \n",
    "except:\n",
    "    print(\"You are not adding correctly\")\n",
    "else:\n",
    "    print(\"adds are good\")\n",
    "    print(result)"
   ]
  },
  {
   "cell_type": "raw",
   "metadata": {},
   "source": [
    "result"
   ]
  },
  {
   "cell_type": "code",
   "execution_count": 6,
   "metadata": {},
   "outputs": [
    {
     "name": "stdout",
     "output_type": "stream",
     "text": [
      "Hey we have an OSERROR\n",
      "I always run\n"
     ]
    }
   ],
   "source": [
    "\n",
    "try:\n",
    "    f = open('testfile','r')\n",
    "    f.write('write a testline')\n",
    "except TypeError:\n",
    "    print('there was a typeerror')\n",
    "except OSError:\n",
    "    print('Hey we have an OSERROR')\n",
    "finally:\n",
    "    print('I always run')"
   ]
  },
  {
   "cell_type": "code",
   "execution_count": null,
   "metadata": {},
   "outputs": [],
   "source": []
  },
  {
   "cell_type": "code",
   "execution_count": null,
   "metadata": {},
   "outputs": [],
   "source": []
  },
  {
   "cell_type": "code",
   "execution_count": null,
   "metadata": {},
   "outputs": [],
   "source": []
  },
  {
   "cell_type": "raw",
   "metadata": {},
   "source": []
  },
  {
   "cell_type": "code",
   "execution_count": 7,
   "metadata": {},
   "outputs": [],
   "source": [
    "def ask_int():\n",
    "    try:\n",
    "        result = int(input('Enter a Number '))\n",
    "  \n",
    "    except:\n",
    "        print('Woop! this is not a number')\n",
    "    #if:\n",
    "        \n",
    "        #result = float print('Is a decimal number, we can manage it.') \n",
    "    finally:\n",
    "        print('Welcome to the end of the road')"
   ]
  },
  {
   "cell_type": "code",
   "execution_count": 8,
   "metadata": {},
   "outputs": [
    {
     "name": "stdout",
     "output_type": "stream",
     "text": [
      "Enter a Number \n",
      "Woop! this is not a number\n",
      "Welcome to the end of the road\n"
     ]
    }
   ],
   "source": [
    "ask_int()"
   ]
  },
  {
   "cell_type": "code",
   "execution_count": null,
   "metadata": {},
   "outputs": [],
   "source": []
  },
  {
   "cell_type": "code",
   "execution_count": null,
   "metadata": {},
   "outputs": [],
   "source": []
  },
  {
   "cell_type": "code",
   "execution_count": 9,
   "metadata": {},
   "outputs": [],
   "source": [
    "#LET ADD A WHILE LOOP ON THE ABOVE PROGRAM TO MAKE IT ITRATE"
   ]
  },
  {
   "cell_type": "code",
   "execution_count": 10,
   "metadata": {},
   "outputs": [],
   "source": [
    "def ask_int():\n",
    "    while True:\n",
    "        try:\n",
    "            result = int(input('Enter a Number '))\n",
    "\n",
    "        except:\n",
    "            print('Woop! this is not a number')\n",
    "            continue\n",
    "        \n",
    "        else:\n",
    "            print('Thank you')\n",
    "            break\n",
    "        finally:\n",
    "            print('Welcome to the end of the road')\n",
    "            print('you have completeed the game')"
   ]
  },
  {
   "cell_type": "code",
   "execution_count": 11,
   "metadata": {},
   "outputs": [
    {
     "name": "stdout",
     "output_type": "stream",
     "text": [
      "Enter a Number \n",
      "Woop! this is not a number\n",
      "Welcome to the end of the road\n",
      "you have completeed the game\n",
      "Enter a Number \n",
      "Woop! this is not a number\n",
      "Welcome to the end of the road\n",
      "you have completeed the game\n",
      "Enter a Number \n",
      "Woop! this is not a number\n",
      "Welcome to the end of the road\n",
      "you have completeed the game\n",
      "Enter a Number \n",
      "Woop! this is not a number\n",
      "Welcome to the end of the road\n",
      "you have completeed the game\n",
      "Enter a Number \n",
      "Woop! this is not a number\n",
      "Welcome to the end of the road\n",
      "you have completeed the game\n",
      "Enter a Number \n",
      "Woop! this is not a number\n",
      "Welcome to the end of the road\n",
      "you have completeed the game\n",
      "Enter a Number \n",
      "Woop! this is not a number\n",
      "Welcome to the end of the road\n",
      "you have completeed the game\n",
      "Enter a Number \n",
      "Woop! this is not a number\n",
      "Welcome to the end of the road\n",
      "you have completeed the game\n",
      "Enter a Number \n",
      "Woop! this is not a number\n",
      "Welcome to the end of the road\n",
      "you have completeed the game\n",
      "Enter a Number 66\n",
      "Thank you\n",
      "Welcome to the end of the road\n",
      "you have completeed the game\n"
     ]
    }
   ],
   "source": [
    "ask_int()\n"
   ]
  },
  {
   "cell_type": "code",
   "execution_count": null,
   "metadata": {},
   "outputs": [],
   "source": []
  },
  {
   "cell_type": "code",
   "execution_count": null,
   "metadata": {},
   "outputs": [],
   "source": []
  },
  {
   "cell_type": "code",
   "execution_count": 1,
   "metadata": {},
   "outputs": [],
   "source": [
    "def askint():\n",
    "    try:\n",
    "        val = int(input('Enter an integer '))\n",
    "    except:\n",
    "        print('You entered a wronge thing')\n",
    "    else:    \n",
    "        val = int(input('comfirm your integer'))\n",
    "    \n",
    "    finally:\n",
    "        print('I always execute')\n",
    "    print(val)    "
   ]
  },
  {
   "cell_type": "code",
   "execution_count": 2,
   "metadata": {},
   "outputs": [
    {
     "name": "stdout",
     "output_type": "stream",
     "text": [
      "Enter an integer 55\n",
      "comfirm your integer66\n",
      "I always execute\n",
      "66\n"
     ]
    }
   ],
   "source": [
    "askint()\n"
   ]
  },
  {
   "cell_type": "code",
   "execution_count": null,
   "metadata": {},
   "outputs": [],
   "source": []
  },
  {
   "cell_type": "code",
   "execution_count": null,
   "metadata": {},
   "outputs": [],
   "source": []
  },
  {
   "cell_type": "code",
   "execution_count": null,
   "metadata": {},
   "outputs": [],
   "source": [
    "\n",
    "def askint():\n",
    "    try:\n",
    "        val = int(input(\"Enter an integer: \"))\n",
    "    except:\n",
    "        print(\"Your entry is wronge \")\n",
    "        val = int(input(\"Try again: \"))\n",
    "    finally:\n",
    "        print(\"Code has run succesfully\")\n",
    "    print(val)"
   ]
  },
  {
   "cell_type": "code",
   "execution_count": null,
   "metadata": {},
   "outputs": [],
   "source": [
    "askint()"
   ]
  },
  {
   "cell_type": "code",
   "execution_count": null,
   "metadata": {},
   "outputs": [],
   "source": []
  },
  {
   "cell_type": "code",
   "execution_count": 1,
   "metadata": {},
   "outputs": [],
   "source": [
    "def askint():\n",
    "    while True:\n",
    "        try:\n",
    "            val = int(input(\"Please enter an integer: \"))\n",
    "        except:\n",
    "            print(\"Looks like you did not enter an integer!\")\n",
    "            continue\n",
    "        else:    \n",
    "            print(\"Yep that's an integer!\")\n",
    "            print(val)\n",
    "            break\n",
    "        finally:\n",
    "            print(\"You always win!\")\n"
   ]
  },
  {
   "cell_type": "code",
   "execution_count": 3,
   "metadata": {},
   "outputs": [
    {
     "name": "stdout",
     "output_type": "stream",
     "text": [
      "Please enter an integer: yy\n",
      "Looks like you did not enter an integer!\n",
      "You always win!\n",
      "Please enter an integer: 66\n",
      "Yep that's an integer!\n",
      "66\n",
      "You always win!\n"
     ]
    }
   ],
   "source": [
    "askint()"
   ]
  }
 ],
 "metadata": {
  "kernelspec": {
   "display_name": "Python 3",
   "language": "python",
   "name": "python3"
  },
  "language_info": {
   "codemirror_mode": {
    "name": "ipython",
    "version": 3
   },
   "file_extension": ".py",
   "mimetype": "text/x-python",
   "name": "python",
   "nbconvert_exporter": "python",
   "pygments_lexer": "ipython3",
   "version": "3.7.0"
  }
 },
 "nbformat": 4,
 "nbformat_minor": 2
}
